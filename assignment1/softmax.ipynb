{
 "cells": [
  {
   "cell_type": "markdown",
   "metadata": {},
   "source": [
    "# Softmax exercise\n",
    "\n",
    "*Complete and hand in this completed worksheet (including its outputs and any supporting code outside of the worksheet) with your assignment submission. For more details see the [assignments page](http://vision.stanford.edu/teaching/cs231n/assignments.html) on the course website.*\n",
    "\n",
    "This exercise is analogous to the SVM exercise. You will:\n",
    "\n",
    "- implement a fully-vectorized **loss function** for the Softmax classifier\n",
    "- implement the fully-vectorized expression for its **analytic gradient**\n",
    "- **check your implementation** with numerical gradient\n",
    "- use a validation set to **tune the learning rate and regularization** strength\n",
    "- **optimize** the loss function with **SGD**\n",
    "- **visualize** the final learned weights\n"
   ]
  },
  {
   "cell_type": "code",
   "execution_count": 1,
   "metadata": {
    "collapsed": false
   },
   "outputs": [],
   "source": [
    "import random\n",
    "import numpy as np\n",
    "from cs231n.data_utils import load_CIFAR10\n",
    "import matplotlib.pyplot as plt\n",
    "%matplotlib inline\n",
    "plt.rcParams['figure.figsize'] = (10.0, 8.0) # set default size of plots\n",
    "plt.rcParams['image.interpolation'] = 'nearest'\n",
    "plt.rcParams['image.cmap'] = 'gray'\n",
    "\n",
    "# for auto-reloading extenrnal modules\n",
    "# see http://stackoverflow.com/questions/1907993/autoreload-of-modules-in-ipython\n",
    "%load_ext autoreload\n",
    "%autoreload 2"
   ]
  },
  {
   "cell_type": "code",
   "execution_count": 4,
   "metadata": {
    "collapsed": false
   },
   "outputs": [
    {
     "name": "stdout",
     "output_type": "stream",
     "text": [
      "Train data shape:  (49000, 3073)\n",
      "Train labels shape:  (49000,)\n",
      "Validation data shape:  (1000, 3073)\n",
      "Validation labels shape:  (1000,)\n",
      "Test data shape:  (1000, 3073)\n",
      "Test labels shape:  (1000,)\n",
      "dev data shape:  (500, 3073)\n",
      "dev labels shape:  (500,)\n"
     ]
    }
   ],
   "source": [
    "def get_CIFAR10_data(num_training=49000, num_validation=1000, num_test=1000, num_dev=500):\n",
    "  \"\"\"\n",
    "  Load the CIFAR-10 dataset from disk and perform preprocessing to prepare\n",
    "  it for the linear classifier. These are the same steps as we used for the\n",
    "  SVM, but condensed to a single function.  \n",
    "  \"\"\"\n",
    "  # Load the raw CIFAR-10 data\n",
    "  cifar10_dir = 'cs231n/datasets/cifar-10-batches-py'\n",
    "  X_train, y_train, X_test, y_test = load_CIFAR10(cifar10_dir)\n",
    "  \n",
    "  # subsample the data\n",
    "  mask = range(num_training, num_training + num_validation)\n",
    "  X_val = X_train[mask]\n",
    "  y_val = y_train[mask]\n",
    "  mask = range(num_training)\n",
    "  X_train = X_train[mask]\n",
    "  y_train = y_train[mask]\n",
    "  mask = range(num_test)\n",
    "  X_test = X_test[mask]\n",
    "  y_test = y_test[mask]\n",
    "  mask = np.random.choice(num_training, num_dev, replace=False)\n",
    "  X_dev = X_train[mask]\n",
    "  y_dev = y_train[mask]\n",
    "  \n",
    "  # Preprocessing: reshape the image data into rows\n",
    "  X_train = np.reshape(X_train, (X_train.shape[0], -1))\n",
    "  X_val = np.reshape(X_val, (X_val.shape[0], -1))\n",
    "  X_test = np.reshape(X_test, (X_test.shape[0], -1))\n",
    "  X_dev = np.reshape(X_dev, (X_dev.shape[0], -1))\n",
    "  \n",
    "  # Normalize the data: subtract the mean image\n",
    "  mean_image = np.mean(X_train, axis = 0)\n",
    "  X_train -= mean_image\n",
    "  X_val -= mean_image\n",
    "  X_test -= mean_image\n",
    "  X_dev -= mean_image\n",
    "  \n",
    "  # add bias dimension and transform into columns\n",
    "  X_train = np.hstack([X_train, np.ones((X_train.shape[0], 1))])\n",
    "  X_val = np.hstack([X_val, np.ones((X_val.shape[0], 1))])\n",
    "  X_test = np.hstack([X_test, np.ones((X_test.shape[0], 1))])\n",
    "  X_dev = np.hstack([X_dev, np.ones((X_dev.shape[0], 1))])\n",
    "  \n",
    "  return X_train, y_train, X_val, y_val, X_test, y_test, X_dev, y_dev\n",
    "\n",
    "\n",
    "# Invoke the above function to get our data.\n",
    "X_train, y_train, X_val, y_val, X_test, y_test, X_dev, y_dev = get_CIFAR10_data()\n",
    "print 'Train data shape: ', X_train.shape\n",
    "print 'Train labels shape: ', y_train.shape\n",
    "print 'Validation data shape: ', X_val.shape\n",
    "print 'Validation labels shape: ', y_val.shape\n",
    "print 'Test data shape: ', X_test.shape\n",
    "print 'Test labels shape: ', y_test.shape\n",
    "print 'dev data shape: ', X_dev.shape\n",
    "print 'dev labels shape: ', y_dev.shape"
   ]
  },
  {
   "cell_type": "markdown",
   "metadata": {},
   "source": [
    "## Softmax Classifier\n",
    "\n",
    "Your code for this section will all be written inside **cs231n/classifiers/softmax.py**. \n"
   ]
  },
  {
   "cell_type": "code",
   "execution_count": 14,
   "metadata": {
    "collapsed": false
   },
   "outputs": [
    {
     "name": "stdout",
     "output_type": "stream",
     "text": [
      "loss: 2.315307\n",
      "sanity check: 2.302585\n"
     ]
    }
   ],
   "source": [
    "# First implement the naive softmax loss function with nested loops.\n",
    "# Open the file cs231n/classifiers/softmax.py and implement the\n",
    "# softmax_loss_naive function.\n",
    "\n",
    "from cs231n.classifiers.softmax import softmax_loss_naive\n",
    "import time\n",
    "\n",
    "# Generate a random softmax weight matrix and use it to compute the loss.\n",
    "W = np.random.randn(3073, 10) * 0.0001\n",
    "loss, grad = softmax_loss_naive(W, X_dev, y_dev, 0.0)\n",
    "\n",
    "# As a rough sanity check, our loss should be something close to -log(0.1).\n",
    "print 'loss: %f' % loss\n",
    "print 'sanity check: %f' % (-np.log(0.1))"
   ]
  },
  {
   "cell_type": "markdown",
   "metadata": {},
   "source": [
    "## Inline Question 1:\n",
    "Why do we expect our loss to be close to -log(0.1)? Explain briefly.**\n",
    "\n",
    "**Your answer:** *Fill this in*\n"
   ]
  },
  {
   "cell_type": "code",
   "execution_count": 15,
   "metadata": {
    "collapsed": false
   },
   "outputs": [
    {
     "name": "stdout",
     "output_type": "stream",
     "text": [
      "numerical: 1.820027 analytic: 1.820027, relative error: 8.166805e-09\n",
      "numerical: -2.803749 analytic: -2.803749, relative error: 1.840184e-08\n",
      "numerical: -0.395633 analytic: -0.395634, relative error: 5.649577e-08\n",
      "numerical: -0.729568 analytic: -0.729568, relative error: 5.989059e-09\n",
      "numerical: 1.249313 analytic: 1.249313, relative error: 2.371315e-08\n",
      "numerical: 0.138561 analytic: 0.138561, relative error: 3.228337e-08\n",
      "numerical: -4.626948 analytic: -4.626948, relative error: 1.827937e-08\n",
      "numerical: 2.106596 analytic: 2.106596, relative error: 1.768084e-08\n",
      "numerical: -1.579976 analytic: -1.579976, relative error: 1.874296e-08\n",
      "numerical: -0.744810 analytic: -0.744810, relative error: 3.100758e-09\n",
      "numerical: 2.097414 analytic: 2.097414, relative error: 3.264081e-08\n",
      "numerical: 0.063521 analytic: 0.063521, relative error: 1.282315e-07\n",
      "numerical: -1.197906 analytic: -1.197906, relative error: 1.267874e-08\n",
      "numerical: -0.141519 analytic: -0.141519, relative error: 3.702428e-07\n",
      "numerical: 0.327814 analytic: 0.327814, relative error: 1.183621e-07\n",
      "numerical: -0.120447 analytic: -0.120447, relative error: 5.108043e-08\n",
      "numerical: -0.157164 analytic: -0.157164, relative error: 2.997481e-07\n",
      "numerical: 2.384179 analytic: 2.384179, relative error: 4.700350e-08\n",
      "numerical: -0.287380 analytic: -0.287380, relative error: 8.169682e-08\n",
      "numerical: 0.152799 analytic: 0.152799, relative error: 1.990425e-07\n"
     ]
    }
   ],
   "source": [
    "# Complete the implementation of softmax_loss_naive and implement a (naive)\n",
    "# version of the gradient that uses nested loops.\n",
    "loss, grad = softmax_loss_naive(W, X_dev, y_dev, 0.0)\n",
    "\n",
    "# As we did for the SVM, use numeric gradient checking as a debugging tool.\n",
    "# The numeric gradient should be close to the analytic gradient.\n",
    "from cs231n.gradient_check import grad_check_sparse\n",
    "f = lambda w: softmax_loss_naive(w, X_dev, y_dev, 0.0)[0]\n",
    "grad_numerical = grad_check_sparse(f, W, grad, 10)\n",
    "\n",
    "# similar to SVM case, do another gradient check with regularization\n",
    "loss, grad = softmax_loss_naive(W, X_dev, y_dev, 1e2)\n",
    "f = lambda w: softmax_loss_naive(w, X_dev, y_dev, 1e2)[0]\n",
    "grad_numerical = grad_check_sparse(f, W, grad, 10)"
   ]
  },
  {
   "cell_type": "code",
   "execution_count": 48,
   "metadata": {
    "collapsed": false
   },
   "outputs": [
    {
     "name": "stdout",
     "output_type": "stream",
     "text": [
      "naive loss: 2.315307e+00 computed in 0.214375s\n",
      "vectorized loss: 2.315307e+00 computed in 0.026055s\n",
      "Loss difference: 0.000000\n",
      "Gradient difference: 0.000000\n"
     ]
    }
   ],
   "source": [
    "# Now that we have a naive implementation of the softmax loss function and its gradient,\n",
    "# implement a vectorized version in softmax_loss_vectorized.\n",
    "# The two versions should compute the same results, but the vectorized version should be\n",
    "# much faster.\n",
    "tic = time.time()\n",
    "loss_naive, grad_naive = softmax_loss_naive(W, X_dev, y_dev, 0.00001)\n",
    "toc = time.time()\n",
    "print 'naive loss: %e computed in %fs' % (loss_naive, toc - tic)\n",
    "\n",
    "from cs231n.classifiers.softmax import softmax_loss_vectorized\n",
    "tic = time.time()\n",
    "loss_vectorized, grad_vectorized = softmax_loss_vectorized(W, X_dev, y_dev, 0.00001)\n",
    "toc = time.time()\n",
    "print 'vectorized loss: %e computed in %fs' % (loss_vectorized, toc - tic)\n",
    "\n",
    "# As we did for the SVM, we use the Frobenius norm to compare the two versions\n",
    "# of the gradient.\n",
    "grad_difference = np.linalg.norm(grad_naive - grad_vectorized, ord='fro')\n",
    "print 'Loss difference: %f' % np.abs(loss_naive - loss_vectorized)\n",
    "print 'Gradient difference: %f' % grad_difference"
   ]
  },
  {
   "cell_type": "code",
   "execution_count": 52,
   "metadata": {
    "collapsed": false
   },
   "outputs": [
    {
     "name": "stdout",
     "output_type": "stream",
     "text": [
      "With lr=0.000000130, reg=15000.000000, got a train accuracy of 0.359837 and val accuracy of 0.381000.\n",
      "Saving a new winner!\n",
      "With lr=0.000000130, reg=17500.000000, got a train accuracy of 0.359041 and val accuracy of 0.381000.\n",
      "With lr=0.000000130, reg=20000.000000, got a train accuracy of 0.358490 and val accuracy of 0.379000.\n",
      "With lr=0.000000130, reg=22500.000000, got a train accuracy of 0.352531 and val accuracy of 0.363000.\n",
      "With lr=0.000000130, reg=25000.000000, got a train accuracy of 0.350327 and val accuracy of 0.368000.\n",
      "With lr=0.000000140, reg=15000.000000, got a train accuracy of 0.363082 and val accuracy of 0.374000.\n",
      "With lr=0.000000140, reg=17500.000000, got a train accuracy of 0.357653 and val accuracy of 0.375000.\n",
      "With lr=0.000000140, reg=20000.000000, got a train accuracy of 0.354429 and val accuracy of 0.366000.\n",
      "With lr=0.000000140, reg=22500.000000, got a train accuracy of 0.355388 and val accuracy of 0.368000.\n",
      "With lr=0.000000140, reg=25000.000000, got a train accuracy of 0.348918 and val accuracy of 0.369000.\n",
      "With lr=0.000000150, reg=15000.000000, got a train accuracy of 0.365204 and val accuracy of 0.374000.\n",
      "With lr=0.000000150, reg=17500.000000, got a train accuracy of 0.360490 and val accuracy of 0.374000.\n",
      "With lr=0.000000150, reg=20000.000000, got a train accuracy of 0.357633 and val accuracy of 0.372000.\n",
      "With lr=0.000000150, reg=22500.000000, got a train accuracy of 0.353592 and val accuracy of 0.366000.\n",
      "With lr=0.000000150, reg=25000.000000, got a train accuracy of 0.351061 and val accuracy of 0.367000.\n",
      "With lr=0.000000160, reg=15000.000000, got a train accuracy of 0.368204 and val accuracy of 0.382000.\n",
      "Saving a new winner!\n",
      "With lr=0.000000160, reg=17500.000000, got a train accuracy of 0.360245 and val accuracy of 0.366000.\n",
      "With lr=0.000000160, reg=20000.000000, got a train accuracy of 0.352878 and val accuracy of 0.365000.\n",
      "With lr=0.000000160, reg=22500.000000, got a train accuracy of 0.350776 and val accuracy of 0.376000.\n",
      "With lr=0.000000160, reg=25000.000000, got a train accuracy of 0.349592 and val accuracy of 0.363000.\n",
      "With lr=0.000000170, reg=15000.000000, got a train accuracy of 0.361020 and val accuracy of 0.376000.\n",
      "With lr=0.000000170, reg=17500.000000, got a train accuracy of 0.363653 and val accuracy of 0.374000.\n",
      "With lr=0.000000170, reg=20000.000000, got a train accuracy of 0.356653 and val accuracy of 0.369000.\n",
      "With lr=0.000000170, reg=22500.000000, got a train accuracy of 0.352082 and val accuracy of 0.364000.\n",
      "With lr=0.000000170, reg=25000.000000, got a train accuracy of 0.353122 and val accuracy of 0.361000.\n",
      "lr 1.300000e-07 reg 1.500000e+04 train accuracy: 0.359837 val accuracy: 0.381000\n",
      "lr 1.300000e-07 reg 1.750000e+04 train accuracy: 0.359041 val accuracy: 0.381000\n",
      "lr 1.300000e-07 reg 2.000000e+04 train accuracy: 0.358490 val accuracy: 0.379000\n",
      "lr 1.300000e-07 reg 2.250000e+04 train accuracy: 0.352531 val accuracy: 0.363000\n",
      "lr 1.300000e-07 reg 2.500000e+04 train accuracy: 0.350327 val accuracy: 0.368000\n",
      "lr 1.400000e-07 reg 1.500000e+04 train accuracy: 0.363082 val accuracy: 0.374000\n",
      "lr 1.400000e-07 reg 1.750000e+04 train accuracy: 0.357653 val accuracy: 0.375000\n",
      "lr 1.400000e-07 reg 2.000000e+04 train accuracy: 0.354429 val accuracy: 0.366000\n",
      "lr 1.400000e-07 reg 2.250000e+04 train accuracy: 0.355388 val accuracy: 0.368000\n",
      "lr 1.400000e-07 reg 2.500000e+04 train accuracy: 0.348918 val accuracy: 0.369000\n",
      "lr 1.500000e-07 reg 1.500000e+04 train accuracy: 0.365204 val accuracy: 0.374000\n",
      "lr 1.500000e-07 reg 1.750000e+04 train accuracy: 0.360490 val accuracy: 0.374000\n",
      "lr 1.500000e-07 reg 2.000000e+04 train accuracy: 0.357633 val accuracy: 0.372000\n",
      "lr 1.500000e-07 reg 2.250000e+04 train accuracy: 0.353592 val accuracy: 0.366000\n",
      "lr 1.500000e-07 reg 2.500000e+04 train accuracy: 0.351061 val accuracy: 0.367000\n",
      "lr 1.600000e-07 reg 1.500000e+04 train accuracy: 0.368204 val accuracy: 0.382000\n",
      "lr 1.600000e-07 reg 1.750000e+04 train accuracy: 0.360245 val accuracy: 0.366000\n",
      "lr 1.600000e-07 reg 2.000000e+04 train accuracy: 0.352878 val accuracy: 0.365000\n",
      "lr 1.600000e-07 reg 2.250000e+04 train accuracy: 0.350776 val accuracy: 0.376000\n",
      "lr 1.600000e-07 reg 2.500000e+04 train accuracy: 0.349592 val accuracy: 0.363000\n",
      "lr 1.700000e-07 reg 1.500000e+04 train accuracy: 0.361020 val accuracy: 0.376000\n",
      "lr 1.700000e-07 reg 1.750000e+04 train accuracy: 0.363653 val accuracy: 0.374000\n",
      "lr 1.700000e-07 reg 2.000000e+04 train accuracy: 0.356653 val accuracy: 0.369000\n",
      "lr 1.700000e-07 reg 2.250000e+04 train accuracy: 0.352082 val accuracy: 0.364000\n",
      "lr 1.700000e-07 reg 2.500000e+04 train accuracy: 0.353122 val accuracy: 0.361000\n",
      "best validation accuracy achieved during cross-validation: 0.382000\n"
     ]
    }
   ],
   "source": [
    "# Use the validation set to tune hyperparameters (regularization strength and\n",
    "# learning rate). You should experiment with different ranges for the learning\n",
    "# rates and regularization strengths; if you are careful you should be able to\n",
    "# get a classification accuracy of over 0.35 on the validation set.\n",
    "from cs231n.classifiers import Softmax\n",
    "results = {}\n",
    "best_val = -1\n",
    "best_softmax = None\n",
    "learning_rates = [1.3e-7, 1.7e-7]\n",
    "regularization_strengths = [15000, 25000]\n",
    "\n",
    "################################################################################\n",
    "# TODO:                                                                        #\n",
    "# Use the validation set to set the learning rate and regularization strength. #\n",
    "# This should be identical to the validation that you did for the SVM; save    #\n",
    "# the best trained softmax classifer in best_softmax.                          #\n",
    "################################################################################\n",
    "for lr in np.linspace(learning_rates[0], learning_rates[1], num=5):\n",
    "    for reg in np.linspace(regularization_strengths[0], regularization_strengths[1], num=5):\n",
    "        softmax = Softmax()\n",
    "        loss = softmax.train(X_train, y_train, learning_rate = lr, reg = reg, num_iters = 2500, \n",
    "            batch_size=200, verbose=False)\n",
    "        y_train_pred = softmax.predict(X_train)\n",
    "        y_val_pred = softmax.predict(X_val)\n",
    "        train_acc = np.mean(y_train_pred == y_train)\n",
    "        val_acc = np.mean(y_val_pred == y_val)\n",
    "        results[(lr, reg)] = (train_acc, val_acc)\n",
    "        print \"With lr=%0.9f, reg=%f, got a train accuracy of %f and val accuracy of %f.\" % (\n",
    "        lr, reg, train_acc, val_acc)\n",
    "        if val_acc > best_val:\n",
    "            print \"Saving a new winner!\"\n",
    "            best_val = val_acc\n",
    "            best_softmax = softmax\n",
    "################################################################################\n",
    "#                              END OF YOUR CODE                                #\n",
    "################################################################################\n",
    "    \n",
    "# Print out results.\n",
    "for lr, reg in sorted(results):\n",
    "    train_accuracy, val_accuracy = results[(lr, reg)]\n",
    "    print 'lr %e reg %e train accuracy: %f val accuracy: %f' % (\n",
    "                lr, reg, train_accuracy, val_accuracy)\n",
    "    \n",
    "print 'best validation accuracy achieved during cross-validation: %f' % best_val"
   ]
  },
  {
   "cell_type": "code",
   "execution_count": 53,
   "metadata": {
    "collapsed": false
   },
   "outputs": [
    {
     "name": "stdout",
     "output_type": "stream",
     "text": [
      "softmax on raw pixels final test set accuracy: 0.367000\n"
     ]
    }
   ],
   "source": [
    "# evaluate on test set\n",
    "# Evaluate the best softmax on test set\n",
    "y_test_pred = best_softmax.predict(X_test)\n",
    "test_accuracy = np.mean(y_test == y_test_pred)\n",
    "print 'softmax on raw pixels final test set accuracy: %f' % (test_accuracy, )"
   ]
  },
  {
   "cell_type": "code",
   "execution_count": 54,
   "metadata": {
    "collapsed": false
   },
   "outputs": [
    {
     "data": {
      "image/png": "[encoded data removed]",
      "text/plain": [
       "<matplotlib.figure.Figure at 0x7f7946865950>"
      ]
     },
     "metadata": {},
     "output_type": "display_data"
    }
   ],
   "source": [
    "# Visualize the learned weights for each class\n",
    "w = best_softmax.W[:-1,:] # strip out the bias\n",
    "w = w.reshape(32, 32, 3, 10)\n",
    "\n",
    "w_min, w_max = np.min(w), np.max(w)\n",
    "\n",
    "classes = ['plane', 'car', 'bird', 'cat', 'deer', 'dog', 'frog', 'horse', 'ship', 'truck']\n",
    "for i in xrange(10):\n",
    "  plt.subplot(2, 5, i + 1)\n",
    "  \n",
    "  # Rescale the weights to be between 0 and 255\n",
    "  wimg = 255.0 * (w[:, :, :, i].squeeze() - w_min) / (w_max - w_min)\n",
    "  plt.imshow(wimg.astype('uint8'))\n",
    "  plt.axis('off')\n",
    "  plt.title(classes[i])"
   ]
  }
 ],
 "metadata": {
  "kernelspec": {
   "display_name": "Python 2",
   "language": "python",
   "name": "python2"
  },
  "language_info": {
   "codemirror_mode": {
    "name": "ipython",
    "version": 2
   },
   "file_extension": ".py",
   "mimetype": "text/x-python",
   "name": "python",
   "nbconvert_exporter": "python",
   "pygments_lexer": "ipython2",
   "version": "2.7.13"
  }
 },
 "nbformat": 4,
 "nbformat_minor": 0
}
